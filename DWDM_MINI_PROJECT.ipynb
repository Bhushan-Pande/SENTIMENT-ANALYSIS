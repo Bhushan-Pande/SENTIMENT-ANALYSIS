{
 "cells": [
  {
   "cell_type": "markdown",
   "metadata": {},
   "source": [
    "## +++++++++++++++++++++++++MINI PROJECT+++++++++++++++++++++++++++++++ \n",
    "\n",
    "### +++++++++++++++++++++++++++++SENTIMENT ANALYSIS+++++++++++++++++++++++++++++++++++\n",
    "\n",
    "### NAIVE BAYES APPROACH"
   ]
  },
  {
   "cell_type": "markdown",
   "metadata": {},
   "source": [
    "### IMPORTING LIBRARIES\n"
   ]
  },
  {
   "cell_type": "code",
   "execution_count": 3,
   "metadata": {},
   "outputs": [],
   "source": [
    "import time\n",
    "import numpy as np\n",
    "import matplotlib.pyplot as plt\n",
    "import pandas as pd"
   ]
  },
  {
   "cell_type": "markdown",
   "metadata": {},
   "source": [
    "### IMPORTING DATASET"
   ]
  },
  {
   "cell_type": "code",
   "execution_count": 4,
   "metadata": {},
   "outputs": [],
   "source": [
    "start=time.time()\n",
    "dataset = pd.read_csv(r'C:\\Users\\Dell\\3D Objects\\DWDM\\movie.csv')\n"
   ]
  },
  {
   "cell_type": "markdown",
   "metadata": {},
   "source": [
    "### DOWNLOAD STOPWORD FILES"
   ]
  },
  {
   "cell_type": "code",
   "execution_count": 5,
   "metadata": {},
   "outputs": [
    {
     "name": "stderr",
     "output_type": "stream",
     "text": [
      "[nltk_data] Error loading stopwords: <urlopen error [Errno 11001]\n",
      "[nltk_data]     getaddrinfo failed>\n"
     ]
    },
    {
     "data": {
      "text/plain": [
       "False"
      ]
     },
     "execution_count": 5,
     "metadata": {},
     "output_type": "execute_result"
    }
   ],
   "source": [
    "import re\n",
    "import nltk\n",
    "nltk.download('stopwords')"
   ]
  },
  {
   "cell_type": "markdown",
   "metadata": {},
   "source": [
    "### USAGE OF STOP WORD FILES"
   ]
  },
  {
   "cell_type": "code",
   "execution_count": 6,
   "metadata": {},
   "outputs": [],
   "source": [
    "stopstart=time.time()\n",
    "from nltk.corpus import stopwords\n",
    "from nltk.stem.porter import PorterStemmer\n",
    "corpus = []\n",
    "for i in range(0, 10000):\n",
    "  review = re.sub('[^a-zA-Z]', ' ', dataset['review'][i])\n",
    "  review = review.lower()\n",
    "  review = review.split()\n",
    "  ps = PorterStemmer()\n",
    "  all_stopwords = stopwords.words('english')\n",
    "  all_stopwords.remove('not')\n",
    "  review = [ps.stem(word) for word in review if not word in set(all_stopwords)]\n",
    "  review = ' '.join(review)\n",
    "  corpus.append(review)\n",
    "stopend=time.time()"
   ]
  },
  {
   "cell_type": "markdown",
   "metadata": {},
   "source": [
    "### APPLYING FEATURE EXTRACTION"
   ]
  },
  {
   "cell_type": "code",
   "execution_count": 7,
   "metadata": {},
   "outputs": [
    {
     "name": "stdout",
     "output_type": "stream",
     "text": [
      "[[0 0 0 ... 0 0 0]\n",
      " [0 0 0 ... 0 0 0]\n",
      " [0 0 0 ... 0 0 0]\n",
      " ...\n",
      " [0 0 0 ... 0 0 0]\n",
      " [0 0 0 ... 0 0 0]\n",
      " [0 0 0 ... 0 0 0]]\n",
      "['positive' 'positive' 'positive' ... 'negative' 'positive' 'negative']\n"
     ]
    }
   ],
   "source": [
    "from sklearn.feature_extraction.text import CountVectorizer\n",
    "cv = CountVectorizer(max_features = 1500)\n",
    "X = cv.fit_transform(corpus).toarray()\n",
    "y = dataset.iloc[:, -1].values\n",
    "print(X)\n",
    "print(y)"
   ]
  },
  {
   "cell_type": "markdown",
   "metadata": {},
   "source": [
    "### GAUSSIAN RULE"
   ]
  },
  {
   "cell_type": "code",
   "execution_count": 8,
   "metadata": {},
   "outputs": [
    {
     "name": "stdout",
     "output_type": "stream",
     "text": [
      "2000\n",
      "2000\n",
      "[['negative' 'positive']\n",
      " ['negative' 'negative']\n",
      " ['negative' 'negative']\n",
      " ...\n",
      " ['negative' 'negative']\n",
      " ['positive' 'positive']\n",
      " ['positive' 'positive']]\n"
     ]
    }
   ],
   "source": [
    "from sklearn.model_selection import train_test_split\n",
    "\n",
    "X_train, X_test, y_train, y_test = train_test_split(X, y, test_size = 0.20, random_state = 0)\n",
    "\n",
    "from sklearn.naive_bayes import GaussianNB\n",
    "classifier = GaussianNB()\n",
    "classifier.fit(X_train,y_train)\n",
    "y_pred = classifier.predict(X_test)\n",
    "print(len(y_pred))\n",
    "print(len(y_test))\n",
    "first20=np.concatenate((y_pred.reshape(len(y_pred),1), y_test.reshape(len(y_test),1)),1)\n",
    "print(np.concatenate((y_pred.reshape(len(y_pred),1), y_test.reshape(len(y_test),1)),1))"
   ]
  },
  {
   "cell_type": "markdown",
   "metadata": {},
   "source": [
    "### CONFUSION MATRIX AND ACCURACY SCORE"
   ]
  },
  {
   "cell_type": "code",
   "execution_count": 9,
   "metadata": {},
   "outputs": [
    {
     "name": "stdout",
     "output_type": "stream",
     "text": [
      "[[827 147]\n",
      " [304 722]]\n",
      "0.7745\n",
      "TIME REQUIRED FOR THE JOURNEY\n",
      "70.66309404373169\n"
     ]
    }
   ],
   "source": [
    "from sklearn.metrics import confusion_matrix, accuracy_score\n",
    "cm = confusion_matrix(y_test, y_pred)\n",
    "print(cm)\n",
    "print(accuracy_score(y_test, y_pred))\n",
    "end=time.time()\n",
    "print(\"TIME REQUIRED FOR THE JOURNEY\")\n",
    "totaltime=end-start\n",
    "print(totaltime)"
   ]
  },
  {
   "cell_type": "code",
   "execution_count": 10,
   "metadata": {},
   "outputs": [
    {
     "name": "stdout",
     "output_type": "stream",
     "text": [
      "Report:                precision    recall  f1-score   support\n",
      "\n",
      "    negative       0.73      0.85      0.79       974\n",
      "    positive       0.83      0.70      0.76      1026\n",
      "\n",
      "    accuracy                           0.77      2000\n",
      "   macro avg       0.78      0.78      0.77      2000\n",
      "weighted avg       0.78      0.77      0.77      2000\n",
      "\n"
     ]
    }
   ],
   "source": [
    "from sklearn.metrics import classification_report\n",
    "\n",
    "a=classification_report(y_test,y_pred)\n",
    "\n",
    "print(\"Report: \" , classification_report(y_test,y_pred))"
   ]
  },
  {
   "cell_type": "markdown",
   "metadata": {},
   "source": [
    "## +++++++++++++++++++++++++MINI PROJECT+++++++++++++++++++++++++++++++ \n",
    "\n",
    "### +++++++++++++++++++++++++++++SENTIMENT ANALYSIS+++++++++++++++++++++++++++++++++++\n",
    "\n",
    "### DEEP LEARNING APPROACH\n",
    "\n",
    "\n",
    "### IMPORTING LIBRARIES"
   ]
  },
  {
   "cell_type": "markdown",
   "metadata": {},
   "source": [
    "### IMPORTING DATASET"
   ]
  },
  {
   "cell_type": "code",
   "execution_count": 11,
   "metadata": {},
   "outputs": [],
   "source": [
    "import numpy as np\n",
    "import matplotlib.pyplot as plt\n",
    "import pandas as pd\n",
    "import time\n",
    "\n",
    "start=time.time()\n",
    "\n",
    "#dataset1 = pd.read_csv(r'C:\\Users\\Dell\\3D Objects\\DWDM\\IMDB Dataset.csv')"
   ]
  },
  {
   "cell_type": "markdown",
   "metadata": {},
   "source": [
    "### CLEANING THE TEXT"
   ]
  },
  {
   "cell_type": "code",
   "execution_count": 12,
   "metadata": {},
   "outputs": [],
   "source": [
    "# import re\n",
    "# import nltk\n",
    "# nltk.download('stopwords')\n",
    "# from nltk.corpus import stopwords\n",
    "# from nltk.stem.porter import PorterStemmer\n",
    "# corpus = []\n",
    "# for i in range(0, 50000):\n",
    "#     review = re.sub('[^a-zA-Z]', ' ', dataset1['review'][i])\n",
    "#     review = review.lower()\n",
    "#     review = review.split()\n",
    "#     ps = PorterStemmer()\n",
    "#     review = [ps.stem(word) for word in review if not word in set(stopwords.words('english'))]\n",
    "#     review = ' '.join(review)\n",
    "#     corpus.append(review)\n",
    "#     #print(\"done\")\n"
   ]
  },
  {
   "cell_type": "markdown",
   "metadata": {},
   "source": [
    "### Creating the Bag of Words model"
   ]
  },
  {
   "cell_type": "code",
   "execution_count": 13,
   "metadata": {},
   "outputs": [
    {
     "name": "stdout",
     "output_type": "stream",
     "text": [
      "10000\n",
      "done\n",
      "10000\n",
      "[[0 0 0 ... 0 0 0]\n",
      " [0 0 0 ... 0 0 0]\n",
      " [0 0 0 ... 0 0 0]\n",
      " ...\n",
      " [0 0 0 ... 0 0 0]\n",
      " [0 0 0 ... 0 0 0]\n",
      " [0 0 0 ... 0 0 0]]\n",
      "['positive' 'positive' 'positive' ... 'negative' 'positive' 'negative']\n"
     ]
    }
   ],
   "source": [
    "\n",
    "from sklearn.feature_extraction.text import CountVectorizer\n",
    "cv = CountVectorizer(max_features = 1500)\n",
    "X = cv.fit_transform(corpus).toarray()\n",
    "y = dataset.iloc[:, 1].values\n",
    "print(len(y))\n",
    "print(\"done\")\n",
    "#print(x)\n",
    "l=[]\n",
    "for i in range(0,len(y)):\n",
    "    if(y[i]==\"positive\"):\n",
    "        l.append(0)\n",
    "    elif(y[i]==\"negative\"):\n",
    "        l.append(1)\n",
    "    else:\n",
    "        l.append(2)\n",
    "print(len(l))    \n",
    "    \n",
    "l = np.array(l)\n",
    "print(X)\n",
    "print(y)\n",
    "\n",
    "from sklearn.model_selection import train_test_split\n",
    "X_train, X_test, y_train, y_test = train_test_split(X, l, test_size = 0.2, random_state = 0)\n"
   ]
  },
  {
   "cell_type": "markdown",
   "metadata": {},
   "source": [
    "### first model implemented\n",
    "### applying the ANN"
   ]
  },
  {
   "cell_type": "code",
   "execution_count": 14,
   "metadata": {},
   "outputs": [
    {
     "name": "stdout",
     "output_type": "stream",
     "text": [
      "done\n"
     ]
    }
   ],
   "source": [
    "\n",
    "from sklearn.preprocessing import StandardScaler\n",
    "sc=StandardScaler()\n",
    "X_train = sc.fit_transform(X_train)\n",
    "X_test = sc.transform(X_test)\n",
    "print(\"done\")"
   ]
  },
  {
   "cell_type": "markdown",
   "metadata": {},
   "source": [
    "### part lets make the ann"
   ]
  },
  {
   "cell_type": "code",
   "execution_count": 15,
   "metadata": {},
   "outputs": [
    {
     "name": "stdout",
     "output_type": "stream",
     "text": [
      "starting the ann\n",
      "start\n",
      "Epoch 1/100\n",
      "800/800 [==============================] - 2s 2ms/step - loss: 0.5317 - accuracy: 0.7861\n",
      "Epoch 2/100\n",
      "800/800 [==============================] - 1s 1ms/step - loss: 0.3346 - accuracy: 0.9064\n",
      "Epoch 3/100\n",
      "800/800 [==============================] - 1s 1ms/step - loss: 0.2516 - accuracy: 0.9314\n",
      "Epoch 4/100\n",
      "800/800 [==============================] - 1s 1ms/step - loss: 0.2014 - accuracy: 0.9461\n",
      "Epoch 5/100\n",
      "800/800 [==============================] - 1s 2ms/step - loss: 0.1722 - accuracy: 0.9521\n",
      "Epoch 6/100\n",
      "800/800 [==============================] - 1s 2ms/step - loss: 0.1543 - accuracy: 0.9572\n",
      "Epoch 7/100\n",
      "800/800 [==============================] - 1s 1ms/step - loss: 0.1479 - accuracy: 0.9581\n",
      "Epoch 8/100\n",
      "800/800 [==============================] - 1s 1ms/step - loss: 0.1356 - accuracy: 0.9624\n",
      "Epoch 9/100\n",
      "800/800 [==============================] - 1s 1ms/step - loss: 0.1303 - accuracy: 0.9641\n",
      "Epoch 10/100\n",
      "800/800 [==============================] - 1s 1ms/step - loss: 0.1293 - accuracy: 0.9640\n",
      "Epoch 11/100\n",
      "800/800 [==============================] - 1s 1ms/step - loss: 0.1295 - accuracy: 0.9636\n",
      "Epoch 12/100\n",
      "800/800 [==============================] - 1s 1ms/step - loss: 0.1270 - accuracy: 0.9636\n",
      "Epoch 13/100\n",
      "800/800 [==============================] - 1s 1ms/step - loss: 0.1289 - accuracy: 0.9628\n",
      "Epoch 14/100\n",
      "800/800 [==============================] - 1s 1ms/step - loss: 0.1215 - accuracy: 0.9663\n",
      "Epoch 15/100\n",
      "800/800 [==============================] - 1s 1ms/step - loss: 0.1210 - accuracy: 0.9650\n",
      "Epoch 16/100\n",
      "800/800 [==============================] - 1s 1ms/step - loss: 0.1237 - accuracy: 0.9634\n",
      "Epoch 17/100\n",
      "800/800 [==============================] - 1s 1ms/step - loss: 0.1213 - accuracy: 0.9654\n",
      "Epoch 18/100\n",
      "800/800 [==============================] - 1s 1ms/step - loss: 0.1207 - accuracy: 0.9660\n",
      "Epoch 19/100\n",
      "800/800 [==============================] - 1s 1ms/step - loss: 0.1160 - accuracy: 0.9676\n",
      "Epoch 20/100\n",
      "800/800 [==============================] - 1s 1ms/step - loss: 0.1136 - accuracy: 0.9681\n",
      "Epoch 21/100\n",
      "800/800 [==============================] - 1s 1ms/step - loss: 0.1128 - accuracy: 0.9686\n",
      "Epoch 22/100\n",
      "800/800 [==============================] - 1s 1ms/step - loss: 0.1106 - accuracy: 0.9691\n",
      "Epoch 23/100\n",
      "800/800 [==============================] - 1s 1ms/step - loss: 0.1138 - accuracy: 0.9676\n",
      "Epoch 24/100\n",
      "800/800 [==============================] - 1s 1ms/step - loss: 0.1182 - accuracy: 0.9664\n",
      "Epoch 25/100\n",
      "800/800 [==============================] - 1s 1ms/step - loss: 0.1174 - accuracy: 0.9649\n",
      "Epoch 26/100\n",
      "800/800 [==============================] - 1s 1ms/step - loss: 0.1100 - accuracy: 0.9678\n",
      "Epoch 27/100\n",
      "800/800 [==============================] - 1s 1ms/step - loss: 0.1065 - accuracy: 0.9697\n",
      "Epoch 28/100\n",
      "800/800 [==============================] - 1s 2ms/step - loss: 0.1077 - accuracy: 0.9695\n",
      "Epoch 29/100\n",
      "800/800 [==============================] - 1s 1ms/step - loss: 0.1138 - accuracy: 0.9672\n",
      "Epoch 30/100\n",
      "800/800 [==============================] - 1s 1ms/step - loss: 0.1118 - accuracy: 0.9680\n",
      "Epoch 31/100\n",
      "800/800 [==============================] - 1s 1ms/step - loss: 0.1089 - accuracy: 0.9686\n",
      "Epoch 32/100\n",
      "800/800 [==============================] - 1s 1ms/step - loss: 0.1065 - accuracy: 0.9691\n",
      "Epoch 33/100\n",
      "800/800 [==============================] - 1s 1ms/step - loss: 0.1081 - accuracy: 0.9682\n",
      "Epoch 34/100\n",
      "800/800 [==============================] - 1s 1ms/step - loss: 0.1022 - accuracy: 0.9696\n",
      "Epoch 35/100\n",
      "800/800 [==============================] - 1s 1ms/step - loss: 0.1037 - accuracy: 0.9699\n",
      "Epoch 36/100\n",
      "800/800 [==============================] - 1s 1ms/step - loss: 0.1058 - accuracy: 0.9693\n",
      "Epoch 37/100\n",
      "800/800 [==============================] - 1s 1ms/step - loss: 0.1115 - accuracy: 0.9670\n",
      "Epoch 38/100\n",
      "800/800 [==============================] - 1s 2ms/step - loss: 0.1048 - accuracy: 0.9691\n",
      "Epoch 39/100\n",
      "800/800 [==============================] - 1s 2ms/step - loss: 0.1022 - accuracy: 0.9701\n",
      "Epoch 40/100\n",
      "800/800 [==============================] - 1s 1ms/step - loss: 0.1013 - accuracy: 0.9704\n",
      "Epoch 41/100\n",
      "800/800 [==============================] - 2s 2ms/step - loss: 0.1013 - accuracy: 0.9693\n",
      "Epoch 42/100\n",
      "800/800 [==============================] - 2s 2ms/step - loss: 0.1042 - accuracy: 0.9690\n",
      "Epoch 43/100\n",
      "800/800 [==============================] - 3s 3ms/step - loss: 0.1037 - accuracy: 0.9696\n",
      "Epoch 44/100\n",
      "800/800 [==============================] - 2s 2ms/step - loss: 0.0993 - accuracy: 0.9705\n",
      "Epoch 45/100\n",
      "800/800 [==============================] - 2s 2ms/step - loss: 0.0972 - accuracy: 0.9706\n",
      "Epoch 46/100\n",
      "800/800 [==============================] - 1s 2ms/step - loss: 0.0987 - accuracy: 0.9703\n",
      "Epoch 47/100\n",
      "800/800 [==============================] - 1s 2ms/step - loss: 0.0999 - accuracy: 0.9704\n",
      "Epoch 48/100\n",
      "800/800 [==============================] - 1s 1ms/step - loss: 0.0952 - accuracy: 0.9712\n",
      "Epoch 49/100\n",
      "800/800 [==============================] - 1s 1ms/step - loss: 0.0933 - accuracy: 0.9721\n",
      "Epoch 50/100\n",
      "800/800 [==============================] - 1s 1ms/step - loss: 0.0947 - accuracy: 0.9722\n",
      "Epoch 51/100\n",
      "800/800 [==============================] - 1s 2ms/step - loss: 0.1002 - accuracy: 0.9706\n",
      "Epoch 52/100\n",
      "800/800 [==============================] - 1s 2ms/step - loss: 0.0991 - accuracy: 0.9705\n",
      "Epoch 53/100\n",
      "800/800 [==============================] - 1s 1ms/step - loss: 0.0911 - accuracy: 0.9720\n",
      "Epoch 54/100\n",
      "800/800 [==============================] - 1s 1ms/step - loss: 0.0902 - accuracy: 0.9722\n",
      "Epoch 55/100\n",
      "800/800 [==============================] - 1s 1ms/step - loss: 0.0955 - accuracy: 0.9715\n",
      "Epoch 56/100\n",
      "800/800 [==============================] - 1s 1ms/step - loss: 0.0941 - accuracy: 0.9707\n",
      "Epoch 57/100\n",
      "800/800 [==============================] - 1s 2ms/step - loss: 0.0914 - accuracy: 0.9704\n",
      "Epoch 58/100\n",
      "800/800 [==============================] - 1s 1ms/step - loss: 0.0986 - accuracy: 0.9697\n",
      "Epoch 59/100\n",
      "800/800 [==============================] - 3s 3ms/step - loss: 0.0962 - accuracy: 0.9695\n",
      "Epoch 60/100\n",
      "800/800 [==============================] - 2s 2ms/step - loss: 0.0939 - accuracy: 0.9710\n",
      "Epoch 61/100\n",
      "800/800 [==============================] - 2s 3ms/step - loss: 0.0892 - accuracy: 0.9720\n",
      "Epoch 62/100\n",
      "800/800 [==============================] - 2s 2ms/step - loss: 0.0906 - accuracy: 0.9718\n",
      "Epoch 63/100\n",
      "800/800 [==============================] - 1s 2ms/step - loss: 0.0909 - accuracy: 0.9716\n",
      "Epoch 64/100\n",
      "800/800 [==============================] - 1s 2ms/step - loss: 0.1016 - accuracy: 0.9685\n",
      "Epoch 65/100\n",
      "800/800 [==============================] - 2s 2ms/step - loss: 0.0983 - accuracy: 0.9697\n",
      "Epoch 66/100\n",
      "800/800 [==============================] - 1s 1ms/step - loss: 0.0887 - accuracy: 0.9710\n",
      "Epoch 67/100\n",
      "800/800 [==============================] - 1s 1ms/step - loss: 0.0864 - accuracy: 0.9712\n",
      "Epoch 68/100\n",
      "800/800 [==============================] - 1s 1ms/step - loss: 0.0859 - accuracy: 0.9718\n",
      "Epoch 69/100\n",
      "800/800 [==============================] - 1s 1ms/step - loss: 0.0850 - accuracy: 0.9710\n",
      "Epoch 70/100\n",
      "800/800 [==============================] - 1s 1ms/step - loss: 0.0835 - accuracy: 0.9721\n",
      "Epoch 71/100\n",
      "800/800 [==============================] - 1s 1ms/step - loss: 0.0957 - accuracy: 0.9684\n",
      "Epoch 72/100\n",
      "800/800 [==============================] - 1s 1ms/step - loss: 0.0823 - accuracy: 0.9716\n",
      "Epoch 73/100\n",
      "800/800 [==============================] - 1s 1ms/step - loss: 0.0837 - accuracy: 0.9720\n",
      "Epoch 74/100\n",
      "800/800 [==============================] - 1s 1ms/step - loss: 0.0819 - accuracy: 0.9711\n",
      "Epoch 75/100\n",
      "800/800 [==============================] - 1s 1ms/step - loss: 0.0827 - accuracy: 0.9711\n",
      "Epoch 76/100\n",
      "800/800 [==============================] - 1s 1ms/step - loss: 0.0895 - accuracy: 0.9711\n",
      "Epoch 77/100\n",
      "800/800 [==============================] - 1s 1ms/step - loss: 0.0911 - accuracy: 0.9693\n",
      "Epoch 78/100\n",
      "800/800 [==============================] - 1s 1ms/step - loss: 0.1103 - accuracy: 0.9657\n",
      "Epoch 79/100\n",
      "800/800 [==============================] - 1s 1ms/step - loss: 0.1285 - accuracy: 0.9632\n",
      "Epoch 80/100\n",
      "800/800 [==============================] - 1s 1ms/step - loss: 0.0924 - accuracy: 0.9678\n",
      "Epoch 81/100\n"
     ]
    },
    {
     "name": "stdout",
     "output_type": "stream",
     "text": [
      "800/800 [==============================] - 1s 1ms/step - loss: 0.0800 - accuracy: 0.9705\n",
      "Epoch 82/100\n",
      "800/800 [==============================] - 1s 1ms/step - loss: 0.0833 - accuracy: 0.9703\n",
      "Epoch 83/100\n",
      "800/800 [==============================] - 1s 1ms/step - loss: 0.0779 - accuracy: 0.9714\n",
      "Epoch 84/100\n",
      "800/800 [==============================] - 1s 1ms/step - loss: 0.0795 - accuracy: 0.9709\n",
      "Epoch 85/100\n",
      "800/800 [==============================] - 1s 1ms/step - loss: 0.0729 - accuracy: 0.9722\n",
      "Epoch 86/100\n",
      "800/800 [==============================] - 2s 2ms/step - loss: 0.0722 - accuracy: 0.9715\n",
      "Epoch 87/100\n",
      "800/800 [==============================] - 2s 3ms/step - loss: 0.0830 - accuracy: 0.9703\n",
      "Epoch 88/100\n",
      "800/800 [==============================] - 1s 2ms/step - loss: 0.0760 - accuracy: 0.9714\n",
      "Epoch 89/100\n",
      "800/800 [==============================] - 1s 2ms/step - loss: 0.0744 - accuracy: 0.9721\n",
      "Epoch 90/100\n",
      "800/800 [==============================] - 1s 1ms/step - loss: 0.0707 - accuracy: 0.9726\n",
      "Epoch 91/100\n",
      "800/800 [==============================] - 1s 1ms/step - loss: 0.0657 - accuracy: 0.9720\n",
      "Epoch 92/100\n",
      "800/800 [==============================] - 1s 2ms/step - loss: 0.0776 - accuracy: 0.9700\n",
      "Epoch 93/100\n",
      "800/800 [==============================] - 1s 1ms/step - loss: 0.0627 - accuracy: 0.9716\n",
      "Epoch 94/100\n",
      "800/800 [==============================] - 1s 1ms/step - loss: 0.0631 - accuracy: 0.9715\n",
      "Epoch 95/100\n",
      "800/800 [==============================] - 1s 1ms/step - loss: 0.0854 - accuracy: 0.9689\n",
      "Epoch 96/100\n",
      "800/800 [==============================] - 1s 1ms/step - loss: 0.0629 - accuracy: 0.9718\n",
      "Epoch 97/100\n",
      "800/800 [==============================] - 2s 2ms/step - loss: 0.0535 - accuracy: 0.9715\n",
      "Epoch 98/100\n",
      "800/800 [==============================] - 1s 1ms/step - loss: 0.0543 - accuracy: 0.9712\n",
      "Epoch 99/100\n",
      "800/800 [==============================] - 1s 1ms/step - loss: 0.0588 - accuracy: 0.9705\n",
      "Epoch 100/100\n",
      "800/800 [==============================] - 1s 2ms/step - loss: 0.0720 - accuracy: 0.9703\n",
      "done\n",
      "<tensorflow.python.keras.callbacks.History object at 0x000001F5442FE388>\n"
     ]
    }
   ],
   "source": [
    "print(\"starting the ann\")\n",
    "import keras\n",
    "from keras.models import Sequential\n",
    "from keras.layers import Dense\n",
    "\n",
    "print(\"start\")\n",
    "#initialize the ann\n",
    "classi=Sequential()\n",
    "\n",
    "#adding the input layer and first hidden layers\n",
    "classi.add(Dense(units=3,kernel_initializer='uniform',activation='relu',input_dim=1500))\n",
    "\n",
    "#adding the second hidden layer\n",
    "classi.add(Dense(units=3,kernel_initializer='uniform',activation='relu',input_dim=1500))\n",
    "\n",
    "#adding the output layers\n",
    "classi.add(Dense(units=1,kernel_initializer='uniform',activation='sigmoid'))\n",
    "\n",
    "#compiling the ann\n",
    "classi.compile(optimizer='adam',loss='binary_crossentropy', metrics=['accuracy'])\n",
    "\n",
    "#fitting the ANN\n",
    "c1=classi.fit(X_train,y_train,batch_size=10,epochs=100)\n",
    "\n",
    "print(\"done\")\n",
    "print(c1)"
   ]
  },
  {
   "cell_type": "code",
   "execution_count": 16,
   "metadata": {},
   "outputs": [
    {
     "name": "stdout",
     "output_type": "stream",
     "text": [
      "[[0 0]\n",
      " [1 1]\n",
      " [1 1]\n",
      " ...\n",
      " [0 1]\n",
      " [0 0]\n",
      " [0 0]]\n"
     ]
    }
   ],
   "source": [
    "y_pred = classi.predict(X_test)\n",
    "y_pred = (y_pred > 0.5)\n",
    "first2_20=(np.concatenate((y_pred.reshape(len(y_pred),1), y_test.reshape(len(y_test),1)),1))\n",
    "print(np.concatenate((y_pred.reshape(len(y_pred),1), y_test.reshape(len(y_test),1)),1))\n"
   ]
  },
  {
   "cell_type": "code",
   "execution_count": 17,
   "metadata": {},
   "outputs": [
    {
     "name": "stdout",
     "output_type": "stream",
     "text": [
      "[[904 122]\n",
      " [169 805]]\n",
      "0.8545\n",
      "TIME REQUIRED FOR THE JOURNEY\n",
      "211.8103129863739\n"
     ]
    }
   ],
   "source": [
    "from sklearn.metrics import confusion_matrix, accuracy_score\n",
    "cm = confusion_matrix(y_test, y_pred)\n",
    "print(cm)\n",
    "print(accuracy_score(y_test, y_pred))\n",
    "end=time.time()\n",
    "print(\"TIME REQUIRED FOR THE JOURNEY\")\n",
    "totaltime2=(end-start)+(stopend-stopstart)\n",
    "print(totaltime2)"
   ]
  },
  {
   "cell_type": "code",
   "execution_count": 30,
   "metadata": {},
   "outputs": [
    {
     "name": "stdout",
     "output_type": "stream",
     "text": [
      "Report:                precision    recall  f1-score   support\n",
      "\n",
      "           0       0.84      0.88      0.86      1026\n",
      "           1       0.87      0.83      0.85       974\n",
      "\n",
      "    accuracy                           0.85      2000\n",
      "   macro avg       0.86      0.85      0.85      2000\n",
      "weighted avg       0.86      0.85      0.85      2000\n",
      "\n"
     ]
    }
   ],
   "source": [
    "b=classification_report(y_test,y_pred)\n",
    "print(\"Report: \" , classification_report(y_test,y_pred))\n"
   ]
  },
  {
   "cell_type": "markdown",
   "metadata": {},
   "source": [
    "## DATA VISUALISATION"
   ]
  },
  {
   "cell_type": "markdown",
   "metadata": {},
   "source": [
    "### PIE CHART"
   ]
  },
  {
   "cell_type": "code",
   "execution_count": 19,
   "metadata": {},
   "outputs": [
    {
     "data": {
      "image/png": "[encoded data removed]",
      "text/plain": [
       "<Figure size 720x504 with 1 Axes>"
      ]
     },
     "metadata": {},
     "output_type": "display_data"
    }
   ],
   "source": [
    "import numpy as np \n",
    "import matplotlib.pyplot as plt \n",
    "  \n",
    "\n",
    "Approach = ['Time-Naive Bayes Approach', 'Time-Deep learning Approach'] \n",
    "  \n",
    "data = [totaltime,totaltime2]     \n",
    "    \n",
    "# Creating dataset \n",
    "\n",
    "  \n",
    "# Creating explode data \n",
    "explode = (0.1, 0.05) \n",
    "  \n",
    "# Creating color parameters \n",
    "colors = ( \"black\", \"orange\") \n",
    "  \n",
    "# Wedge properties \n",
    "wp = { 'linewidth' : 1, 'edgecolor' : \"green\" } \n",
    "  \n",
    "# Creating autocpt arguments \n",
    "def func(pct, allvalues): \n",
    "    absolute = int(pct / 100.*np.sum(allvalues)) \n",
    "    return \"{:.1f}%\\n({:d} g)\".format(pct, absolute) \n",
    "  \n",
    "# Creating plot \n",
    "fig, ax = plt.subplots(figsize =(10, 7)) \n",
    "wedges, texts, autotexts = ax.pie(data,  \n",
    "                                  autopct = lambda pct: func(pct, data), \n",
    "                                  explode = explode,  \n",
    "                                  labels = Approach, \n",
    "                                  shadow = True, \n",
    "                                  colors = colors, \n",
    "                                  startangle = 90, \n",
    "                                  wedgeprops = wp, \n",
    "                                  textprops = dict(color =\"red\")) \n",
    "  \n",
    "# Adding legend \n",
    "ax.legend(wedges,data, \n",
    "          title =\"TOTAL TIME\", \n",
    "          loc =\"center left\", \n",
    "          bbox_to_anchor =(1.5, 0, 0.5, 1)) \n",
    "  \n",
    "plt.setp(autotexts, size = 8, weight =\"bold\") \n",
    "ax.set_title(\"Customizing pie chart\") \n",
    "  \n",
    "# show plot \n",
    "plt.show() \n"
   ]
  },
  {
   "cell_type": "code",
   "execution_count": 20,
   "metadata": {},
   "outputs": [
    {
     "data": {
      "image/png": "[encoded data removed]",
      "text/plain": [
       "<Figure size 720x504 with 1 Axes>"
      ]
     },
     "metadata": {},
     "output_type": "display_data"
    }
   ],
   "source": [
    "import numpy as np \n",
    "import matplotlib.pyplot as plt \n",
    "  \n",
    "\n",
    "Approach = ['Acurracy-Naive Bayes Approach', 'Acurracy-Deep learning Approach'] \n",
    "  \n",
    "data = [0.7745,0.8655]     \n",
    "    \n",
    "# Creating dataset \n",
    "\n",
    "  \n",
    "# Creating explode data \n",
    "explode = (0.1, 0.05) \n",
    "  \n",
    "# Creating color parameters \n",
    "colors = ( \"black\", \"orange\") \n",
    "  \n",
    "# Wedge properties \n",
    "wp = { 'linewidth' : 1, 'edgecolor' : \"green\" } \n",
    "  \n",
    "# Creating autocpt arguments \n",
    "def func(pct, allvalues): \n",
    "    absolute = int(pct / 100.*np.sum(allvalues)) \n",
    "    return \"{:.1f}%\\n\".format(pct, absolute) \n",
    "  \n",
    "# Creating plot \n",
    "fig, ax = plt.subplots(figsize =(10, 7)) \n",
    "wedges, texts, autotexts = ax.pie(data,  \n",
    "                                  autopct = lambda pct: func(pct, data), \n",
    "                                  explode = explode,  \n",
    "                                  labels = Approach, \n",
    "                                  shadow = True, \n",
    "                                  colors = colors, \n",
    "                                  startangle = 90, \n",
    "                                  wedgeprops = wp, \n",
    "                                  textprops = dict(color =\"red\")) \n",
    "  \n",
    "# Adding legend \n",
    "ax.legend(wedges,data, \n",
    "          title =\"TOTAL ACCURACY\", \n",
    "          loc =\"center left\", \n",
    "          bbox_to_anchor =(1.5, 0, 0.5, 1)) \n",
    "  \n",
    "plt.setp(autotexts, size = 8, weight =\"bold\") \n",
    "ax.set_title(\"Customizing pie chart\") \n",
    "  \n",
    "# show plot \n",
    "plt.show() \n"
   ]
  },
  {
   "cell_type": "markdown",
   "metadata": {},
   "source": [
    "## MONKEY LEARN APPROACH"
   ]
  },
  {
   "cell_type": "code",
   "execution_count": 21,
   "metadata": {},
   "outputs": [
    {
     "data": {
      "text/html": [
       "<div>\n",
       "<style scoped>\n",
       "    .dataframe tbody tr th:only-of-type {\n",
       "        vertical-align: middle;\n",
       "    }\n",
       "\n",
       "    .dataframe tbody tr th {\n",
       "        vertical-align: top;\n",
       "    }\n",
       "\n",
       "    .dataframe thead th {\n",
       "        text-align: right;\n",
       "    }\n",
       "</style>\n",
       "<table border=\"1\" class=\"dataframe\">\n",
       "  <thead>\n",
       "    <tr style=\"text-align: right;\">\n",
       "      <th></th>\n",
       "      <th>review</th>\n",
       "      <th>sentiment</th>\n",
       "      <th>Classification</th>\n",
       "      <th>Confidence</th>\n",
       "    </tr>\n",
       "  </thead>\n",
       "  <tbody>\n",
       "    <tr>\n",
       "      <th>0</th>\n",
       "      <td>One of the other reviewers has mentioned that ...</td>\n",
       "      <td>positive</td>\n",
       "      <td>Positive</td>\n",
       "      <td>0.767</td>\n",
       "    </tr>\n",
       "    <tr>\n",
       "      <th>1</th>\n",
       "      <td>A wonderful little production. &lt;br /&gt;&lt;br /&gt;The...</td>\n",
       "      <td>positive</td>\n",
       "      <td>Positive</td>\n",
       "      <td>1.000</td>\n",
       "    </tr>\n",
       "    <tr>\n",
       "      <th>2</th>\n",
       "      <td>I thought this was a wonderful way to spend ti...</td>\n",
       "      <td>positive</td>\n",
       "      <td>Positive</td>\n",
       "      <td>0.969</td>\n",
       "    </tr>\n",
       "    <tr>\n",
       "      <th>3</th>\n",
       "      <td>Basically there's a family where a little boy ...</td>\n",
       "      <td>negative</td>\n",
       "      <td>Negative</td>\n",
       "      <td>0.976</td>\n",
       "    </tr>\n",
       "    <tr>\n",
       "      <th>4</th>\n",
       "      <td>Petter Mattei's \"Love in the Time of Money\" is...</td>\n",
       "      <td>positive</td>\n",
       "      <td>Positive</td>\n",
       "      <td>0.991</td>\n",
       "    </tr>\n",
       "    <tr>\n",
       "      <th>5</th>\n",
       "      <td>Probably my all-time favorite movie, a story o...</td>\n",
       "      <td>positive</td>\n",
       "      <td>Positive</td>\n",
       "      <td>0.994</td>\n",
       "    </tr>\n",
       "    <tr>\n",
       "      <th>6</th>\n",
       "      <td>I sure would like to see a resurrection of a u...</td>\n",
       "      <td>positive</td>\n",
       "      <td>Positive</td>\n",
       "      <td>0.953</td>\n",
       "    </tr>\n",
       "    <tr>\n",
       "      <th>7</th>\n",
       "      <td>This show was an amazing, fresh &amp; innovative i...</td>\n",
       "      <td>negative</td>\n",
       "      <td>Negative</td>\n",
       "      <td>1.000</td>\n",
       "    </tr>\n",
       "    <tr>\n",
       "      <th>8</th>\n",
       "      <td>Encouraged by the positive comments about this...</td>\n",
       "      <td>negative</td>\n",
       "      <td>Negative</td>\n",
       "      <td>0.999</td>\n",
       "    </tr>\n",
       "    <tr>\n",
       "      <th>9</th>\n",
       "      <td>If you like original gut wrenching laughter yo...</td>\n",
       "      <td>positive</td>\n",
       "      <td>Positive</td>\n",
       "      <td>0.983</td>\n",
       "    </tr>\n",
       "    <tr>\n",
       "      <th>10</th>\n",
       "      <td>Phil the Alien is one of those quirky films wh...</td>\n",
       "      <td>negative</td>\n",
       "      <td>Negative</td>\n",
       "      <td>0.936</td>\n",
       "    </tr>\n",
       "    <tr>\n",
       "      <th>11</th>\n",
       "      <td>I saw this movie when I was about 12 when it c...</td>\n",
       "      <td>negative</td>\n",
       "      <td>Negative</td>\n",
       "      <td>0.642</td>\n",
       "    </tr>\n",
       "    <tr>\n",
       "      <th>12</th>\n",
       "      <td>So im not a big fan of Boll's work but then ag...</td>\n",
       "      <td>negative</td>\n",
       "      <td>Negative</td>\n",
       "      <td>0.901</td>\n",
       "    </tr>\n",
       "    <tr>\n",
       "      <th>13</th>\n",
       "      <td>The cast played Shakespeare.&lt;br /&gt;&lt;br /&gt;Shakes...</td>\n",
       "      <td>negative</td>\n",
       "      <td>Negative</td>\n",
       "      <td>0.525</td>\n",
       "    </tr>\n",
       "    <tr>\n",
       "      <th>14</th>\n",
       "      <td>This a fantastic movie of three prisoners who ...</td>\n",
       "      <td>positive</td>\n",
       "      <td>Positive</td>\n",
       "      <td>0.999</td>\n",
       "    </tr>\n",
       "    <tr>\n",
       "      <th>15</th>\n",
       "      <td>Kind of drawn in by the erotic scenes, only to...</td>\n",
       "      <td>negative</td>\n",
       "      <td>Negative</td>\n",
       "      <td>1.000</td>\n",
       "    </tr>\n",
       "    <tr>\n",
       "      <th>16</th>\n",
       "      <td>Some films just simply should not be remade. T...</td>\n",
       "      <td>positive</td>\n",
       "      <td>Negative</td>\n",
       "      <td>0.979</td>\n",
       "    </tr>\n",
       "    <tr>\n",
       "      <th>17</th>\n",
       "      <td>This movie made it into one of my top 10 most ...</td>\n",
       "      <td>negative</td>\n",
       "      <td>Negative</td>\n",
       "      <td>0.991</td>\n",
       "    </tr>\n",
       "    <tr>\n",
       "      <th>18</th>\n",
       "      <td>I remember this film,it was the first film i h...</td>\n",
       "      <td>positive</td>\n",
       "      <td>Positive</td>\n",
       "      <td>0.899</td>\n",
       "    </tr>\n",
       "    <tr>\n",
       "      <th>19</th>\n",
       "      <td>NaN</td>\n",
       "      <td>NaN</td>\n",
       "      <td>NaN</td>\n",
       "      <td>NaN</td>\n",
       "    </tr>\n",
       "  </tbody>\n",
       "</table>\n",
       "</div>"
      ],
      "text/plain": [
       "                                               review sentiment  \\\n",
       "0   One of the other reviewers has mentioned that ...  positive   \n",
       "1   A wonderful little production. <br /><br />The...  positive   \n",
       "2   I thought this was a wonderful way to spend ti...  positive   \n",
       "3   Basically there's a family where a little boy ...  negative   \n",
       "4   Petter Mattei's \"Love in the Time of Money\" is...  positive   \n",
       "5   Probably my all-time favorite movie, a story o...  positive   \n",
       "6   I sure would like to see a resurrection of a u...  positive   \n",
       "7   This show was an amazing, fresh & innovative i...  negative   \n",
       "8   Encouraged by the positive comments about this...  negative   \n",
       "9   If you like original gut wrenching laughter yo...  positive   \n",
       "10  Phil the Alien is one of those quirky films wh...  negative   \n",
       "11  I saw this movie when I was about 12 when it c...  negative   \n",
       "12  So im not a big fan of Boll's work but then ag...  negative   \n",
       "13  The cast played Shakespeare.<br /><br />Shakes...  negative   \n",
       "14  This a fantastic movie of three prisoners who ...  positive   \n",
       "15  Kind of drawn in by the erotic scenes, only to...  negative   \n",
       "16  Some films just simply should not be remade. T...  positive   \n",
       "17  This movie made it into one of my top 10 most ...  negative   \n",
       "18  I remember this film,it was the first film i h...  positive   \n",
       "19                                                NaN       NaN   \n",
       "\n",
       "   Classification  Confidence  \n",
       "0        Positive       0.767  \n",
       "1        Positive       1.000  \n",
       "2        Positive       0.969  \n",
       "3        Negative       0.976  \n",
       "4        Positive       0.991  \n",
       "5        Positive       0.994  \n",
       "6        Positive       0.953  \n",
       "7        Negative       1.000  \n",
       "8        Negative       0.999  \n",
       "9        Positive       0.983  \n",
       "10       Negative       0.936  \n",
       "11       Negative       0.642  \n",
       "12       Negative       0.901  \n",
       "13       Negative       0.525  \n",
       "14       Positive       0.999  \n",
       "15       Negative       1.000  \n",
       "16       Negative       0.979  \n",
       "17       Negative       0.991  \n",
       "18       Positive       0.899  \n",
       "19            NaN         NaN  "
      ]
     },
     "execution_count": 21,
     "metadata": {},
     "output_type": "execute_result"
    }
   ],
   "source": [
    "dataset = pd.read_csv(r'C:\\Users\\Dell\\3D Objects\\DWDM\\processed_batch.csv')\n",
    "dataset"
   ]
  },
  {
   "cell_type": "code",
   "execution_count": 22,
   "metadata": {},
   "outputs": [
    {
     "name": "stdout",
     "output_type": "stream",
     "text": [
      "['positive' 'positive' 'positive' 'negative' 'positive' 'positive'\n",
      " 'positive' 'negative' 'negative' 'positive' 'negative' 'negative'\n",
      " 'negative' 'negative' 'positive' 'negative' 'positive' 'negative'\n",
      " 'positive' nan]\n",
      "['positive' 'positive' 'positive' 'negative' 'positive' 'positive'\n",
      " 'positive' 'negative' 'negative' 'positive' 'negative' 'negative'\n",
      " 'negative' 'negative' 'positive' 'negative' 'negative' 'negative'\n",
      " 'positive' nan]\n",
      "Accuracy:\n",
      "0.9473684210526315\n"
     ]
    }
   ],
   "source": [
    "sentiment = dataset.iloc[:, 1].values\n",
    "print(sentiment)\n",
    "classification= dataset.iloc[:, -2].str.lower().values\n",
    "print(classification)\n",
    "#classification = classification.tolist()\n",
    "\n",
    "#print(classification)\n",
    "count=0\n",
    "for i in range(0,19):\n",
    "    if(sentiment[i]==classification[i]):\n",
    "        count=count+1\n",
    "print(\"Accuracy:\")\n",
    "print(count/19)\n",
    "    \n",
    "    "
   ]
  },
  {
   "cell_type": "markdown",
   "metadata": {},
   "source": [
    "### INFERENCES\n",
    "\n",
    "#### BAR CHART"
   ]
  },
  {
   "cell_type": "code",
   "execution_count": 37,
   "metadata": {},
   "outputs": [
    {
     "data": {
      "image/png": "[encoded data removed]",
      "text/plain": [
       "<Figure size 432x288 with 1 Axes>"
      ]
     },
     "metadata": {
      "needs_background": "light"
     },
     "output_type": "display_data"
    }
   ],
   "source": [
    "import matplotlib.pyplot as plt\n",
    "\n",
    "Attributes = [' negative',' positive','macro avg','weighted avg']\n",
    "Recall = [0.85,0.70,0.78,0.77]\n",
    "New_Colors = ['green','blue','purple','brown']\n",
    "plt.bar(Attributes, Recall,color=New_Colors)\n",
    "plt.title('NAIVE BAYES')\n",
    "plt.xlabel('Attributes')\n",
    "plt.ylabel('Recall')\n",
    "plt.show()"
   ]
  },
  {
   "cell_type": "code",
   "execution_count": 39,
   "metadata": {},
   "outputs": [
    {
     "data": {
      "image/png": "[encoded data removed]",
      "text/plain": [
       "<Figure size 432x288 with 1 Axes>"
      ]
     },
     "metadata": {
      "needs_background": "light"
     },
     "output_type": "display_data"
    }
   ],
   "source": [
    "import matplotlib.pyplot as plt\n",
    "\n",
    "Attributes = [' negative',' positive','macro avg','weighted avg']\n",
    "Recall = [0.88,0.83,0.85,0.85]\n",
    "New_Colors = ['green','blue','purple','brown']\n",
    "plt.bar(Attributes, Recall,color=New_Colors)\n",
    "plt.title('DEEP LEARNING')\n",
    "plt.xlabel('Attributes')\n",
    "plt.ylabel('Recall')\n",
    "plt.show()"
   ]
  }
 ],
 "metadata": {
  "kernelspec": {
   "display_name": "Python 3",
   "language": "python",
   "name": "python3"
  },
  "language_info": {
   "codemirror_mode": {
    "name": "ipython",
    "version": 3
   },
   "file_extension": ".py",
   "mimetype": "text/x-python",
   "name": "python",
   "nbconvert_exporter": "python",
   "pygments_lexer": "ipython3",
   "version": "3.7.9"
  }
 },
 "nbformat": 4,
 "nbformat_minor": 4
}
